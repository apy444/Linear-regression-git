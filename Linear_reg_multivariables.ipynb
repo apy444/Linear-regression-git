{
 "cells": [
  {
   "cell_type": "code",
   "execution_count": null,
   "metadata": {
    "collapsed": true
   },
   "outputs": [],
   "source": [
    "# -*- coding: utf-8 -*-\n",
    "\"\"\"\n",
    "Created on Thu Sep  6 11:50:09 2018\n",
    "\n",
    "@author: AndiGabi\n",
    "\"\"\"\n"
   ]
  },
  {
   "cell_type": "markdown",
   "metadata": {},
   "source": [
    "Machine Learning Problem Solving: \n",
    "Implementing Linear Regression with multiple varible\n",
    "\n",
    "This exercise based on Andrew NG: Machine Learning Coursera week2 assignment, solved in MATLAB or OCTAVE.\n",
    "Based on this exercise I made my solution completely in Python.\n",
    "\n",
    "Suppose we are selling our house and we\n",
    "want to know what a good market price would be. One way to do this is to\n",
    "\n",
    "first collect information on recent houses sold and make a model of housing\n",
    "prices.\n",
    "\n",
    "Our dataset contains the size of the houses (sq feet), the number of bedrooms \n",
    "and the price the house sold.\n"
   ]
  },
  {
   "cell_type": "code",
   "execution_count": 13,
   "metadata": {
    "collapsed": true
   },
   "outputs": [],
   "source": [
    "\n",
    "import numpy as np\n",
    "import pandas as pd\n",
    "import matplotlib.pyplot as plt\n",
    "from mpl_toolkits.mplot3d import Axes3D\n",
    "from matplotlib import cm\n",
    "\n",
    "#Load data from data2.txt file:\n",
    "\n",
    "data=pd.read_csv(\"data2.txt\", header = None)\n",
    "\n",
    "X = data.iloc[:,:-1]\n",
    "y = data.iloc[:,-1:]\n",
    "\n",
    "X_matrix = np.array(X)\n",
    "y_vector = np.array(y).T\n",
    "m = len(y)\n",
    "\n",
    "#We can see, that our X variables are on completely different scale, which\n",
    "#means, that we need to apply feature scaling.\n",
    "#For this reason we use mean and std (standard deviation)\n",
    "#The reason of feature scaling is to make our gradient descent much efficient.\n",
    "\n",
    "def featureNorm(v, X=X_matrix):\n",
    "    X_mean = X.mean(axis=0) #choose axis, which one to \"eliminate\" by calculating mean\n",
    "    X_std = X.std(axis=0)\n",
    "    X_norm = (v - X_mean) / X_std\n",
    "    return X_norm\n",
    "\n",
    "X_norm = featureNorm(X_matrix)    \n",
    "m = X_norm.shape[0]\n",
    "X_norm = np.hstack((np.ones((m,1)),X_norm)).T #number of rows should be the number of variables\n",
    "n=X_norm.shape[0] #number of varibales\n",
    "\n"
   ]
  },
  {
   "cell_type": "code",
   "execution_count": 14,
   "metadata": {},
   "outputs": [
    {
     "name": "stdout",
     "output_type": "stream",
     "text": [
      "In case of initial theta [ 0.  0.  0.] the cost is 3,082,802,761,004.\n"
     ]
    }
   ],
   "source": [
    "#Lets compute the cost for an initial theta values:\n",
    "theta = np.zeros((1,n))\n",
    "\n",
    "def computeCost(X, y, theta):\n",
    "    m = len(y)\n",
    "    h = theta.dot(X) #this is the matrix multiplication\n",
    "    cost = ((h-y)**2).sum()/2/m\n",
    "    return cost\n",
    "\n",
    "cost = computeCost(X_norm, y_vector, theta)\n",
    "print(\"In case of initial theta {1} the cost is {0:,.0f}.\". format(cost, theta[0]))\n",
    "\n"
   ]
  },
  {
   "cell_type": "code",
   "execution_count": 15,
   "metadata": {},
   "outputs": [
    {
     "name": "stdout",
     "output_type": "stream",
     "text": [
      "Gradient descent for normalized features resulted a theta of [ 340412.65957447  109447.79516356   -6578.35354808] using alpha = 0.01.\n"
     ]
    }
   ],
   "source": [
    "#Lets implement Gradient descent for multiple variables:\n",
    "\n",
    "def gradientDescent(X, y, theta, alpha, max_iter=1500):\n",
    "    m = len(y)\n",
    "    cost = computeCost(X, y, theta)\n",
    "    cost_history = [cost]\n",
    "    i = 0\n",
    "    while True:\n",
    "        if i >= max_iter: break\n",
    "        theta = theta - alpha * (1/m) * ( (theta.dot(X) - y)*X).sum(axis=1)\n",
    "        cost_new = computeCost(X, y, theta)\n",
    "        cost_history.append(cost_new)\n",
    "        if cost - cost_new < 0.000001: break\n",
    "        else: \n",
    "            cost = cost_new\n",
    "            i +=1\n",
    "    \n",
    "    return theta, cost_history\n",
    "\n",
    "#lets initialize parameters and calculate the optimum for theta\n",
    "alpha = 0.01\n",
    "theta = np.zeros((1,n))\n",
    "\n",
    "theta, cost_history =  gradientDescent(X_norm, y_vector, theta, alpha)\n",
    "\n",
    "print (\"Gradient descent for normalized features resulted a theta of {} using alpha = {}.\". format(theta[0], alpha))\n"
   ]
  },
  {
   "cell_type": "code",
   "execution_count": 16,
   "metadata": {},
   "outputs": [
    {
     "name": "stdout",
     "output_type": "stream",
     "text": [
      "Plotting the cost history\n"
     ]
    },
    {
     "data": {
      "image/png": "[encoded data removed]",
      "text/plain": [
       "<matplotlib.figure.Figure at 0x1850fa95d30>"
      ]
     },
     "metadata": {},
     "output_type": "display_data"
    }
   ],
   "source": [
    "print(\"Plotting the cost history\")\n",
    "plt.plot(cost_history)\n",
    "plt.xlabel(\"Number of iterations\")\n",
    "plt.ylabel(\"Calculated cost\")\n",
    "plt.title(\"Cost history while implementing Gradient Descent\")\n",
    "plt.show()\n",
    "\n"
   ]
  },
  {
   "cell_type": "code",
   "execution_count": 17,
   "metadata": {},
   "outputs": [
    {
     "name": "stdout",
     "output_type": "stream",
     "text": [
      "The estimated price of the 1650 sq feet, 3 br house is $293,081.\n"
     ]
    }
   ],
   "source": [
    "#Lets estimate price for a 1650 sq feet big, 3 br house\n",
    "p = np.array([1650, 3]).reshape(1,2)\n",
    "p = featureNorm(p)\n",
    "m = p.shape[0]\n",
    "p = np.hstack((np.ones((m,1)),p)).T\n",
    "price = theta @ p\n",
    "print(\"The estimated price of the 1650 sq feet, 3 br house is ${:,.0f}.\".format(price[0][0]))\n",
    "\n"
   ]
  },
  {
   "cell_type": "code",
   "execution_count": 18,
   "metadata": {},
   "outputs": [
    {
     "name": "stdout",
     "output_type": "stream",
     "text": [
      "Normal equation without feature normalization resulted a theta of [ 89597.9095428     139.21067402  -8738.01911233].\n"
     ]
    }
   ],
   "source": [
    "#Normal equation:\n",
    "m = X_matrix.shape[0]\n",
    "X = np.hstack((np.ones((m,1)),X_matrix))\n",
    "y_vector = y_vector.T\n",
    "theta = np.linalg.inv(X.T@X) @ X.T @ y_vector\n",
    "print (\"Normal equation without feature normalization resulted a theta of {}.\". format(theta.T[0]))\n",
    "\n"
   ]
  },
  {
   "cell_type": "code",
   "execution_count": 19,
   "metadata": {},
   "outputs": [
    {
     "name": "stdout",
     "output_type": "stream",
     "text": [
      "The estimated price of the 1650 sq feet, 3 br house is $293,081.\n"
     ]
    }
   ],
   "source": [
    "#Lets calculate the price with theta from normal equation:\n",
    "p = np.array([1650, 3]).reshape(1,2)\n",
    "m = p.shape[0]\n",
    "p = np.hstack((np.ones((m,1)),p)).T\n",
    "price = theta.T @ p\n",
    "print(\"The estimated price of the 1650 sq feet, 3 br house is ${:,.0f}.\".format(price[0][0]))\n"
   ]
  },
  {
   "cell_type": "code",
   "execution_count": null,
   "metadata": {
    "collapsed": true
   },
   "outputs": [],
   "source": []
  }
 ],
 "metadata": {
  "kernelspec": {
   "display_name": "Python 3",
   "language": "python",
   "name": "python3"
  },
  "language_info": {
   "codemirror_mode": {
    "name": "ipython",
    "version": 3
   },
   "file_extension": ".py",
   "mimetype": "text/x-python",
   "name": "python",
   "nbconvert_exporter": "python",
   "pygments_lexer": "ipython3",
   "version": "3.6.3"
  }
 },
 "nbformat": 4,
 "nbformat_minor": 2
}
